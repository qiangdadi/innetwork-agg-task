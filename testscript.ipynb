{
 "cells": [
  {
   "cell_type": "code",
   "execution_count": 10,
   "metadata": {},
   "outputs": [
    {
     "name": "stdout",
     "output_type": "stream",
     "text": [
      "Average time = 2160.12 ms for cubic CCA with direct topo\n"
     ]
    }
   ],
   "source": [
    "%%bash\n",
    "su hxq\n",
    "cd /home/hxq/ns-allinone-3.33/ns-3.33\n",
    "\n",
    "./waf --run \"scratch/in-quic-topo --topotype=0 --cc=cubic\" > statisc-direct-cb.log 2>&1\n",
    "# process the log\n",
    "grep 'AVG operation' statisc-direct-cb.log | awk '{print $7}' | sed 's/ms//' > tmptimes\n",
    "#delete first record, this record is inaccurate\n",
    "sed '1d' tmptimes > times\n",
    "# calculate avg\n",
    "avg=$(awk '{sum += $1; count += 1} END {if (count > 0) print sum / count; else print 0}' times)\n",
    "echo \"Average time = $avg ms for cubic CCA with direct topo\"\n",
    "rm tmptimes times"
   ]
  },
  {
   "cell_type": "code",
   "execution_count": 12,
   "metadata": {},
   "outputs": [
    {
     "name": "stdout",
     "output_type": "stream",
     "text": [
      "Average time = 2160.12 ms for cubic CCA with direct topo and vsize = 1000\n",
      "Average time = 2565.5 ms for cubic CCA with direct topo and vsize = 1200\n",
      "Average time = 2160.12 ms for bbr CCA with direct topo and vsize = 1000\n",
      "Average time = 2565.5 ms for bbr CCA with direct topo and vsize = 1200\n"
     ]
    }
   ],
   "source": [
    "%%bash\n",
    "su hxq\n",
    "cd /home/hxq/ns-allinone-3.33/ns-3.33\n",
    "\n",
    "./waf --run \"scratch/in-quic-topo --topotype=0 --cc=cubic\" > statisc-direct-cb.log 2>&1\n",
    "grep 'AVG operation' statisc-direct-cb.log | awk '{print $7}' | sed 's/ms//' > tmptimes\n",
    "sed '1d' tmptimes > times\n",
    "avg=$(awk '{sum += $1; count += 1} END {if (count > 0) print sum / count; else print 0}' times)\n",
    "echo \"Average time = $avg ms for cubic CCA with direct topo and vsize = 1000\"\n",
    "rm tmptimes times\n",
    "\n",
    "./waf --run \"scratch/in-quic-topo --topotype=0 --cc=cubic --vsize=1200\" > statisc-direct-cb-12.log 2>&1\n",
    "grep 'AVG operation' statisc-direct-cb-12.log | awk '{print $7}' | sed 's/ms//' > tmptimes\n",
    "sed '1d' tmptimes > times\n",
    "avg=$(awk '{sum += $1; count += 1} END {if (count > 0) print sum / count; else print 0}' times)\n",
    "echo \"Average time = $avg ms for cubic CCA with direct topo and vsize = 1200\"\n",
    "rm tmptimes times\n",
    "\n",
    "./waf --run \"scratch/in-quic-topo --topotype=0 --cc=bbr\" > statisc-direct-bbr.log 2>&1\n",
    "grep 'AVG operation' statisc-direct-bbr.log | awk '{print $7}' | sed 's/ms//' > tmptimes\n",
    "sed '1d' tmptimes > times\n",
    "avg=$(awk '{sum += $1; count += 1} END {if (count > 0) print sum / count; else print 0}' times)\n",
    "echo \"Average time = $avg ms for bbr CCA with direct topo and vsize = 1000\"\n",
    "rm tmptimes times\n",
    "\n",
    "./waf --run \"scratch/in-quic-topo --topotype=0 --cc=bbr --vsize=1200\" > statisc-direct-bbr-12.log 2>&1\n",
    "grep 'AVG operation' statisc-direct-bbr-12.log | awk '{print $7}' | sed 's/ms//' > tmptimes\n",
    "sed '1d' tmptimes > times\n",
    "avg=$(awk '{sum += $1; count += 1} END {if (count > 0) print sum / count; else print 0}' times)\n",
    "echo \"Average time = $avg ms for bbr CCA with direct topo and vsize = 1200\"\n",
    "rm tmptimes times"
   ]
  },
  {
   "cell_type": "code",
   "execution_count": 13,
   "metadata": {},
   "outputs": [
    {
     "name": "stdout",
     "output_type": "stream",
     "text": [
      "Average time = 510 ms for cubic CCA with direct topo and vsize = 1000\n",
      "Average time = 600 ms for cubic CCA with direct topo and vsize = 1200\n",
      "Average time = 510 ms for cubic CCA with direct topo and vsize = 1000\n",
      "Average time = 600 ms for cubic CCA with direct topo and vsize = 1200\n"
     ]
    }
   ],
   "source": [
    "%%bash\n",
    "su hxq\n",
    "cd /home/hxq/ns-allinone-3.33/ns-3.33\n",
    "\n",
    "./waf --run \"scratch/in-quic-topo --topotype=1 --cc=cubic\" > statisc-aggtree-cb.log 2>&1\n",
    "grep 'AVG operation' statisc-aggtree-cb.log | awk '{print $7}' | sed 's/ms//' > tmptimes\n",
    "sed '1d' tmptimes > times\n",
    "avg=$(awk '{sum += $1; count += 1} END {if (count > 0) print sum / count; else print 0}' times)\n",
    "echo \"Average time = $avg ms for cubic CCA with direct topo and vsize = 1000\"\n",
    "rm tmptimes times\n",
    "\n",
    "./waf --run \"scratch/in-quic-topo --topotype=1 --cc=cubic --vsize=1200\" > statisc-aggtree-cb-12.log 2>&1\n",
    "grep 'AVG operation' statisc-aggtree-cb-12.log | awk '{print $7}' | sed 's/ms//' > tmptimes\n",
    "sed '1d' tmptimes > times\n",
    "avg=$(awk '{sum += $1; count += 1} END {if (count > 0) print sum / count; else print 0}' times)\n",
    "echo \"Average time = $avg ms for cubic CCA with direct topo and vsize = 1200\"\n",
    "rm tmptimes times\n",
    "\n",
    "./waf --run \"scratch/in-quic-topo --topotype=1 --cc=bbr\" > statisc-aggtree-bbr.log 2>&1\n",
    "grep 'AVG operation' statisc-aggtree-bbr.log | awk '{print $7}' | sed 's/ms//' > tmptimes\n",
    "sed '1d' tmptimes > times\n",
    "avg=$(awk '{sum += $1; count += 1} END {if (count > 0) print sum / count; else print 0}' times)\n",
    "echo \"Average time = $avg ms for cubic CCA with direct topo and vsize = 1000\"\n",
    "rm tmptimes times\n",
    "\n",
    "./waf --run \"scratch/in-quic-topo --topotype=1 --cc=bbr --vsize=1200\" > statisc-aggtree-bbr-12.log 2>&1\n",
    "grep 'AVG operation' statisc-aggtree-bbr-12.log | awk '{print $7}' | sed 's/ms//' > tmptimes\n",
    "sed '1d' tmptimes > times\n",
    "avg=$(awk '{sum += $1; count += 1} END {if (count > 0) print sum / count; else print 0}' times)\n",
    "echo \"Average time = $avg ms for cubic CCA with direct topo and vsize = 1200\"\n",
    "rm tmptimes times"
   ]
  }
 ],
 "metadata": {
  "kernelspec": {
   "display_name": "Python 3",
   "language": "python",
   "name": "python3"
  },
  "language_info": {
   "codemirror_mode": {
    "name": "ipython",
    "version": 3
   },
   "file_extension": ".py",
   "mimetype": "text/x-python",
   "name": "python",
   "nbconvert_exporter": "python",
   "pygments_lexer": "ipython3",
   "version": "3.10.12"
  }
 },
 "nbformat": 4,
 "nbformat_minor": 2
}
